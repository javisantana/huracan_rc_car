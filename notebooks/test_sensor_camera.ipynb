{
 "cells": [
  {
   "cell_type": "code",
   "execution_count": 90,
   "metadata": {},
   "outputs": [
    {
     "name": "stdout",
     "output_type": "stream",
     "text": [
      "histogram time 0.000374\n",
      "lpf time 0.000779\n",
      "local peaks time 0.011245\n",
      "vectorize time 0.000581\n",
      "calculate colors time 0.013816\n",
      "extract lines from image time 0.000097\n",
      "dbscan data size 66 \n",
      "   db scan time 0.002047\n",
      "extract lines from image time 0.008043\n"
     ]
    },
    {
     "name": "stderr",
     "output_type": "stream",
     "text": [
      "/opt/conda/lib/python3.6/site-packages/scipy/ndimage/interpolation.py:600: UserWarning: From scipy 0.13.0, the output shape of zoom() is calculated with round() instead of int() - for these inputs the size of the returned array has changed.\n",
      "  \"the returned array has changed.\", UserWarning)\n"
     ]
    },
    {
     "data": {
      "text/plain": [
       "[array([[ 0.37254902,  0.7880021 ],\n",
       "        [ 0.54901961,  0.71121029]]), array([[ 0.35294118,  0.76431127],\n",
       "        [ 0.49019608,  0.83005367]])]"
      ]
     },
     "execution_count": 90,
     "metadata": {},
     "output_type": "execute_result"
    },
    {
     "data": {
      "image/png": "[encoded data removed]",
      "text/plain": [
       "<matplotlib.figure.Figure at 0x7ff8d2ca1b38>"
      ]
     },
     "metadata": {},
     "output_type": "display_data"
    }
   ],
   "source": [
    "import sys\n",
    "import numpy as np\n",
    "from scipy import ndimage\n",
    "from scipy.misc import imsave\n",
    "import matplotlib.pyplot as plt\n",
    "from scipy.cluster.vq import vq, kmeans, whiten\n",
    "from sklearn.cluster import DBSCAN\n",
    "from sklearn.preprocessing import StandardScaler\n",
    "from scipy.signal import argrelextrema\n",
    "%matplotlib inline\n",
    "\n",
    "im = ndimage.imread('0000.jpg', mode='L')\n",
    "\n",
    "im = ndimage.zoom(im[im.shape[0]//3:,:], 0.5)\n",
    "# im = ndimage.filters.maximum_filter(im, size=(5,5))\n",
    "plt.imshow(im)\n",
    "\n",
    "import sensor_camera\n",
    "import importlib\n",
    "importlib.reload(sensor_camera)\n",
    "a = sensor_camera.extract_lines(im, plot=plt)\n",
    "\n",
    "a\n"
   ]
  },
  {
   "cell_type": "code",
   "execution_count": 93,
   "metadata": {},
   "outputs": [
    {
     "name": "stdout",
     "output_type": "stream",
     "text": [
      "line 0.372549 0.788002 -> 0.549020 0.711210\n",
      "line centroid 0.460784 0.749606\n",
      "line 0.352941 0.764311 -> 0.490196 0.830054\n",
      "line centroid 0.421569 0.797182\n"
     ]
    },
    {
     "data": {
      "text/plain": [
       "(array([ 0.44346742,  0.77061496]), (28.381915152616997, 24.659678682593764))"
      ]
     },
     "execution_count": 93,
     "metadata": {},
     "output_type": "execute_result"
    },
    {
     "data": {
      "image/png": "[encoded data removed]",
      "text/plain": [
       "<matplotlib.figure.Figure at 0x7ff8d8236898>"
      ]
     },
     "metadata": {},
     "output_type": "display_data"
    }
   ],
   "source": [
    "importlib.reload(sensor_camera)\n",
    "pos = sensor_camera.calculate_direction(a)\n",
    "plt.imshow(im)\n",
    "plt.autoscale(False)\n",
    "c = (pos[0]*im.shape[1], pos[1]*im.shape[0])\n",
    "plt.plot(c[0], c[1], '*')\n",
    "pos, c"
   ]
  },
  {
   "cell_type": "code",
   "execution_count": 137,
   "metadata": {},
   "outputs": [
    {
     "name": "stdout",
     "output_type": "stream",
     "text": [
      "histogram time 0.001240\n",
      "lpf time 0.000276\n",
      "local peaks time 0.024760\n",
      "vectorize time 0.000126\n"
     ]
    },
    {
     "data": {
      "text/plain": [
       "[<matplotlib.lines.Line2D at 0x7ff8d1d7c9b0>]"
      ]
     },
     "execution_count": 137,
     "metadata": {},
     "output_type": "execute_result"
    },
    {
     "data": {
      "image/png": "[encoded data removed]",
      "text/plain": [
       "<matplotlib.figure.Figure at 0x7ff8d1e00c18>"
      ]
     },
     "metadata": {},
     "output_type": "display_data"
    }
   ],
   "source": [
    "maxs, paletted = sensor_camera.calculate_colors(im)\n",
    "x, y = np.where(paletted == maxs[0][0])\n",
    "pfd = np.polyfit(x, y, 1)\n",
    "\n",
    "xp = np.linspace(np.min(x), np.max(x) , 100)\n",
    "p = np.poly1d(pfd)\n",
    "plt.imshow(paletted)\n",
    "plt.autoscale(False)\n",
    "plt.plot(p(xp), xp, '-')\n",
    "\n"
   ]
  },
  {
   "cell_type": "code",
   "execution_count": 221,
   "metadata": {},
   "outputs": [
    {
     "name": "stdout",
     "output_type": "stream",
     "text": [
      "histogram time 0.000274\n",
      "lpf time 0.000633\n",
      "local peaks time 0.009693\n",
      "vectorize time 0.000083\n",
      "calculate colors time 0.011180\n",
      "min x 0.000000 maxx 31.000000\n",
      "min y 22.000000 maxy 63.000000\n",
      "(32, 64)\n",
      "line 0.000000 0.669468 -> 0.968750 0.360846\n",
      "line centroid 0.484375 0.515157\n"
     ]
    },
    {
     "data": {
      "text/plain": [
       "(array([  0.,  31.]), array([ 42.84594384,  23.09412376]))"
      ]
     },
     "execution_count": 221,
     "metadata": {},
     "output_type": "execute_result"
    },
    {
     "data": {
      "image/png": "[encoded data removed]",
      "text/plain": [
       "<matplotlib.figure.Figure at 0x7ff8d1c7b128>"
      ]
     },
     "metadata": {},
     "output_type": "display_data"
    }
   ],
   "source": [
    "importlib.reload(sensor_camera)\n",
    "\n",
    "plt.imshow(paletted)\n",
    "line = sensor_camera.extract_line_simple(im, plt)\n",
    "pos = sensor_camera.calculate_direction([line])\n",
    "\n",
    "#plt.autoscale(False)\n",
    "c = (pos[0]*paletted.shape[0], pos[1]*paletted.shape[1])\n",
    "#plt.plot(c[1], c[0], '*', line[:,1]*paletted.shape[1],line[:,0]*paletted.shape[0], '-')\n",
    "line[:,0]*paletted.shape[0], line[:,1]*paletted.shape[1]"
   ]
  }
 ],
 "metadata": {
  "kernelspec": {
   "display_name": "Python 3",
   "language": "python",
   "name": "python3"
  },
  "language_info": {
   "codemirror_mode": {
    "name": "ipython",
    "version": 3
   },
   "file_extension": ".py",
   "mimetype": "text/x-python",
   "name": "python",
   "nbconvert_exporter": "python",
   "pygments_lexer": "ipython3",
   "version": "3.6.2"
  }
 },
 "nbformat": 4,
 "nbformat_minor": 2
}
