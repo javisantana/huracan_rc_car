{
 "cells": [
  {
   "cell_type": "code",
   "execution_count": 6,
   "metadata": {
    "collapsed": false
   },
   "outputs": [
    {
     "data": {
      "text/plain": [
       "(array([ -7.10087609e-07,  -8.00951219e-07,   8.28398283e-06,\n",
       "          8.21448395e-05,   4.23627486e-04,   8.77682355e-04,\n",
       "         -7.04676324e-03,  -7.48012158e-02,  -1.08226791e-01,\n",
       "          9.88684542e-01,   0.00000000e+00]),\n",
       " array([], dtype=float64),\n",
       " 6,\n",
       " array([ 3.13199928,  0.99844377,  0.41969317,  0.12923531,  0.02877568,\n",
       "         0.00428572]),\n",
       " 1.3322676295501878e-15)"
      ]
     },
     "execution_count": 6,
     "metadata": {},
     "output_type": "execute_result"
    }
   ],
   "source": [
    "import numpy as np\n",
    "x = np.array([0.0, 1.0, 2.0, 3.0,  4.0,  5.0])\n",
    "y = np.array([0.0, 0.8, 0.9, 0.1, -0.8, -1.0])\n",
    "z = np.polyfit(x, y, 10, full=True)\n",
    "z"
   ]
  },
  {
   "cell_type": "code",
   "execution_count": 11,
   "metadata": {
    "collapsed": false
   },
   "outputs": [
    {
     "data": {
      "text/plain": [
       "1.5635576656621358e-29"
      ]
     },
     "execution_count": 11,
     "metadata": {},
     "output_type": "execute_result"
    }
   ],
   "source": [
    "xx = np.poly1d(z[0])\n",
    "(xx(x) - y).var()"
   ]
  },
  {
   "cell_type": "code",
   "execution_count": 15,
   "metadata": {
    "collapsed": false
   },
   "outputs": [
    {
     "data": {
      "text/plain": [
       "((6, 2), array([[ 0. ,  0. ],\n",
       "        [ 1. ,  0.8],\n",
       "        [ 2. ,  0.9],\n",
       "        [ 3. ,  0.1],\n",
       "        [ 4. , -0.8],\n",
       "        [ 5. , -1. ]]))"
      ]
     },
     "execution_count": 15,
     "metadata": {},
     "output_type": "execute_result"
    }
   ],
   "source": [
    "X = np.column_stack((x, y))\n",
    "X.shape, X\n"
   ]
  }
 ],
 "metadata": {
  "kernelspec": {
   "display_name": "Python 2",
   "language": "python",
   "name": "python2"
  },
  "language_info": {
   "codemirror_mode": {
    "name": "ipython",
    "version": 2
   },
   "file_extension": ".py",
   "mimetype": "text/x-python",
   "name": "python",
   "nbconvert_exporter": "python",
   "pygments_lexer": "ipython2",
   "version": "2.7.12"
  }
 },
 "nbformat": 4,
 "nbformat_minor": 2
}
